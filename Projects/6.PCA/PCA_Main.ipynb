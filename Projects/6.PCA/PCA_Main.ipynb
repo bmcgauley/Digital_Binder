{
  "nbformat": 4,
  "nbformat_minor": 0,
  "metadata": {
    "colab": {
      "provenance": [],
      "collapsed_sections": [
        "_7Wxc0-PGznu",
        "XgU78rk1HKT6",
        "R7QzVKlXHQUH",
        "uk3AxaWoH11d",
        "ssp8_2iMIDSi",
        "zxITQsNKIXk_",
        "yLd47yh_IU5D",
        "wCqi-eihIc1x",
        "BPpP5PkAIkXw",
        "9klg1yiKI9QZ",
        "2ya6XDMlJA4A",
        "A-kF0UayJ9A_",
        "z5ggMWigKueA",
        "fBF7mKCqLkLe",
        "lxsn-rppLnnt",
        "1gG0rVxSLyOu",
        "KgmiTwdHL7wJ",
        "oBIYvkg7MZKT",
        "hUXfuU3uMepG",
        "Vj9cBtSDM17i",
        "Dj8cODOxM7ZR",
        "wpI3LEdYTQp-",
        "_KQReFixe9bO",
        "RMeGPPNDfACP",
        "ZibJZBdifpc1",
        "RBogddIFfwpM",
        "ofCGXVyFf4u2",
        "63dj9pTfgI-9",
        "SnyW38QmgmkG",
        "xRGTZQwHhaJ-",
        "6woULS_RjSaS"
      ]
    },
    "kernelspec": {
      "name": "python3",
      "display_name": "Python 3"
    },
    "language_info": {
      "name": "python"
    }
  },
  "cells": [
    {
      "cell_type": "markdown",
      "source": [
        "\"\"\"\n",
        "# PCA Analysis\n",
        "Authors:\n",
        "- Brian McGauley\n",
        "\n",
        "03/02/2025\n",
        "\n",
        "This file performs Principal Component Analysis (PCA) on multiple datasets,\n",
        "demonstrating the standard steps and visualizations in a typical PCA workflow.\n",
        "\n",
        "The file is structured to handle three datasets:\n",
        "- Wine quality dataset\n",
        "- Economic data\n",
        "- City statistics\n",
        "\n",
        "For each dataset, we'll create a set of standardized PCA visualizations and analyses.\n",
        "\"\"\""
      ],
      "metadata": {
        "id": "87HKGBJT8L53"
      }
    },
    {
      "cell_type": "markdown",
      "source": [
        "## Import & Setup"
      ],
      "metadata": {
        "id": "_7Wxc0-PGznu"
      }
    },
    {
      "cell_type": "code",
      "execution_count": null,
      "metadata": {
        "colab": {
          "base_uri": "https://localhost:8080/"
        },
        "id": "xK_cjuOjDcPS",
        "outputId": "6ef9e4cb-dc18-4f7c-fd0a-fc0fcc9b3e7e"
      },
      "outputs": [
        {
          "output_type": "stream",
          "name": "stdout",
          "text": [
            "Drive already mounted at /content/drive/; to attempt to forcibly remount, call drive.mount(\"/content/drive/\", force_remount=True).\n"
          ]
        }
      ],
      "source": [
        "import pandas as pd\n",
        "import numpy as np\n",
        "import matplotlib.pyplot as plt\n",
        "import seaborn as sns\n",
        "from sklearn.decomposition import PCA\n",
        "from sklearn.preprocessing import StandardScaler\n",
        "from scipy.cluster.hierarchy import dendrogram, linkage\n",
        "from matplotlib.gridspec import GridSpec\n",
        "from google.colab import drive\n",
        "\n",
        "drive.mount(\"/content/drive/\")\n",
        "\n",
        "# Set up the plots to be more readable\n",
        "plt.style.use('seaborn-v0_8-whitegrid')\n",
        "plt.rcParams['figure.figsize'] = (12, 8)\n",
        "plt.rcParams['font.size'] = 12\n",
        "\n",
        "# Create a directory for charts if it doesn't exist\n",
        "import os\n",
        "if not os.path.exists('charts'):\n",
        "    os.makedirs('charts')"
      ]
    },
    {
      "cell_type": "markdown",
      "source": [
        "## Data Set 1 - Wine Data"
      ],
      "metadata": {
        "id": "XgU78rk1HKT6"
      }
    },
    {
      "cell_type": "markdown",
      "source": [
        "### Load Data"
      ],
      "metadata": {
        "id": "R7QzVKlXHQUH"
      }
    },
    {
      "cell_type": "code",
      "source": [
        "wine_df = pd.read_csv(\"/content/drive/MyDrive/Colab Notebooks/Lab4/wine.csv\")\n",
        "print(f\"Dataset loaded with {wine_df.shape[0]} rows and {wine_df.shape[1]} columns\")"
      ],
      "metadata": {
        "colab": {
          "base_uri": "https://localhost:8080/"
        },
        "id": "hy6G-v988mxU",
        "outputId": "66b0078f-2f64-48fd-e204-a3a2c232b59b"
      },
      "execution_count": null,
      "outputs": [
        {
          "output_type": "stream",
          "name": "stdout",
          "text": [
            "Dataset loaded with 178 rows and 14 columns\n"
          ]
        }
      ]
    },
    {
      "cell_type": "markdown",
      "source": [
        "### Explore Data"
      ],
      "metadata": {
        "id": "uk3AxaWoH11d"
      }
    },
    {
      "cell_type": "code",
      "source": [
        "print(wine_df.head())\n",
        "print(wine_df.describe().round(2))\n",
        "\n",
        "print(wine_df.isnull().sum())"
      ],
      "metadata": {
        "id": "xd3BlnZYHqyT",
        "colab": {
          "base_uri": "https://localhost:8080/"
        },
        "outputId": "82f2350b-b8b6-4b6f-b6b4-8e8cb66d45b0"
      },
      "execution_count": null,
      "outputs": [
        {
          "output_type": "stream",
          "name": "stdout",
          "text": [
            "   Wine_type  Alcohol  Malic.acid   Ash   Acl   Mg  Phenols  Flavanoids  \\\n",
            "0          1    14.23        1.71  2.43  15.6  127     2.80        3.06   \n",
            "1          1    13.20        1.78  2.14  11.2  100     2.65        2.76   \n",
            "2          1    13.16        2.36  2.67  18.6  101     2.80        3.24   \n",
            "3          1    14.37        1.95  2.50  16.8  113     3.85        3.49   \n",
            "4          1    13.24        2.59  2.87  21.0  118     2.80        2.69   \n",
            "\n",
            "   Nonflavanoid.phenols  Proanth  Color.int   Hue    OD  Proline  \n",
            "0                  0.28     2.29       5.64  1.04  3.92     1065  \n",
            "1                  0.26     1.28       4.38  1.05  3.40     1050  \n",
            "2                  0.30     2.81       5.68  1.03  3.17     1185  \n",
            "3                  0.24     2.18       7.80  0.86  3.45     1480  \n",
            "4                  0.39     1.82       4.32  1.04  2.93      735  \n",
            "       Wine_type  Alcohol  Malic.acid     Ash     Acl      Mg  Phenols  \\\n",
            "count     178.00   178.00      178.00  178.00  178.00  178.00   178.00   \n",
            "mean        1.94    13.00        2.34    2.37   19.49   99.74     2.30   \n",
            "std         0.78     0.81        1.12    0.27    3.34   14.28     0.63   \n",
            "min         1.00    11.03        0.74    1.36   10.60   70.00     0.98   \n",
            "25%         1.00    12.36        1.60    2.21   17.20   88.00     1.74   \n",
            "50%         2.00    13.05        1.87    2.36   19.50   98.00     2.36   \n",
            "75%         3.00    13.68        3.08    2.56   21.50  107.00     2.80   \n",
            "max         3.00    14.83        5.80    3.23   30.00  162.00     3.88   \n",
            "\n",
            "       Flavanoids  Nonflavanoid.phenols  Proanth  Color.int     Hue      OD  \\\n",
            "count      178.00                178.00   178.00     178.00  178.00  178.00   \n",
            "mean         2.03                  0.36     1.59       5.06    0.96    2.61   \n",
            "std          1.00                  0.12     0.57       2.32    0.23    0.71   \n",
            "min          0.34                  0.13     0.41       1.28    0.48    1.27   \n",
            "25%          1.20                  0.27     1.25       3.22    0.78    1.94   \n",
            "50%          2.13                  0.34     1.56       4.69    0.96    2.78   \n",
            "75%          2.88                  0.44     1.95       6.20    1.12    3.17   \n",
            "max          5.08                  0.66     3.58      13.00    1.71    4.00   \n",
            "\n",
            "       Proline  \n",
            "count   178.00  \n",
            "mean    746.89  \n",
            "std     314.91  \n",
            "min     278.00  \n",
            "25%     500.50  \n",
            "50%     673.50  \n",
            "75%     985.00  \n",
            "max    1680.00  \n",
            "Wine_type               0\n",
            "Alcohol                 0\n",
            "Malic.acid              0\n",
            "Ash                     0\n",
            "Acl                     0\n",
            "Mg                      0\n",
            "Phenols                 0\n",
            "Flavanoids              0\n",
            "Nonflavanoid.phenols    0\n",
            "Proanth                 0\n",
            "Color.int               0\n",
            "Hue                     0\n",
            "OD                      0\n",
            "Proline                 0\n",
            "dtype: int64\n"
          ]
        }
      ]
    },
    {
      "cell_type": "markdown",
      "source": [
        "### Check Missing Values"
      ],
      "metadata": {
        "id": "ssp8_2iMIDSi"
      }
    },
    {
      "cell_type": "code",
      "source": [
        "missing_values = wine_df.isnull().sum()\n",
        "print(missing_values[missing_values > 0] if missing_values.sum() > 0 else \"No missing values\")\n"
      ],
      "metadata": {
        "colab": {
          "base_uri": "https://localhost:8080/"
        },
        "id": "Fib8R0hkIG7V",
        "outputId": "307c8cd2-8522-4974-807e-051b99b570a9"
      },
      "execution_count": null,
      "outputs": [
        {
          "output_type": "stream",
          "name": "stdout",
          "text": [
            "No missing values\n"
          ]
        }
      ]
    },
    {
      "cell_type": "markdown",
      "source": [
        "### Feature Engineering - Separate Target"
      ],
      "metadata": {
        "id": "zxITQsNKIXk_"
      }
    },
    {
      "cell_type": "code",
      "source": [
        "print(wine_df.columns.tolist())"
      ],
      "metadata": {
        "colab": {
          "base_uri": "https://localhost:8080/"
        },
        "id": "e39ZiioWIDeW",
        "outputId": "5aeb8f59-28e9-49a0-d82e-cc3cb4d91c89"
      },
      "execution_count": null,
      "outputs": [
        {
          "output_type": "stream",
          "name": "stdout",
          "text": [
            "['Wine_type', 'Alcohol', 'Malic.acid', 'Ash', 'Acl', 'Mg', 'Phenols', 'Flavanoids', 'Nonflavanoid.phenols', 'Proanth', 'Color.int', 'Hue', 'OD', 'Proline']\n"
          ]
        }
      ]
    },
    {
      "cell_type": "code",
      "source": [
        "# Separate target if it exists\n",
        "if 'Wine_type' in wine_df.columns:\n",
        "    features = wine_df.drop(columns=['Wine_type'])\n",
        "    target = wine_df['Wine_type']\n",
        "else:\n",
        "    features = wine_df.copy()"
      ],
      "metadata": {
        "id": "FXhKCseJLgEx"
      },
      "execution_count": null,
      "outputs": []
    },
    {
      "cell_type": "code",
      "source": [
        "features = features.select_dtypes(include=['float64', 'int64'])\n",
        "print(f\"Features selected for PCA: {features.columns.tolist()}\")"
      ],
      "metadata": {
        "colab": {
          "base_uri": "https://localhost:8080/"
        },
        "id": "sW4SF6hHL1mf",
        "outputId": "89eb813d-53af-4fb2-d4c3-9e9606c00aea"
      },
      "execution_count": null,
      "outputs": [
        {
          "output_type": "stream",
          "name": "stdout",
          "text": [
            "Features selected for PCA: ['Alcohol', 'Malic.acid', 'Ash', 'Acl', 'Mg', 'Phenols', 'Flavanoids', 'Nonflavanoid.phenols', 'Proanth', 'Color.int', 'Hue', 'OD', 'Proline']\n"
          ]
        }
      ]
    },
    {
      "cell_type": "markdown",
      "source": [
        "### Standardize Data"
      ],
      "metadata": {
        "id": "yLd47yh_IU5D"
      }
    },
    {
      "cell_type": "code",
      "source": [
        "scaler = StandardScaler()\n",
        "scaled_features = scaler.fit_transform(features)\n",
        "print(\"Features have been standardized\")"
      ],
      "metadata": {
        "id": "N4xrjsAdeg0s",
        "colab": {
          "base_uri": "https://localhost:8080/"
        },
        "outputId": "0c822baf-29ae-430c-8abc-a4393ee74fbe"
      },
      "execution_count": null,
      "outputs": [
        {
          "output_type": "stream",
          "name": "stdout",
          "text": [
            "Features have been standardized\n"
          ]
        }
      ]
    },
    {
      "cell_type": "markdown",
      "source": [
        "### Perform PCA"
      ],
      "metadata": {
        "id": "wCqi-eihIc1x"
      }
    },
    {
      "cell_type": "code",
      "source": [
        "pca = PCA()\n",
        "transformed_features = pca.fit_transform(scaled_features)\n",
        "explained_variance_ratio = pca.explained_variance_ratio_"
      ],
      "metadata": {
        "id": "XI-nhQysgUOF"
      },
      "execution_count": null,
      "outputs": []
    },
    {
      "cell_type": "markdown",
      "source": [
        "### Analyze Explained Variance"
      ],
      "metadata": {
        "id": "BPpP5PkAIkXw"
      }
    },
    {
      "cell_type": "code",
      "source": [
        "cumulative_variance_ratio = np.cumsum(explained_variance_ratio)\n",
        "threshold = 0.90"
      ],
      "metadata": {
        "id": "mLGS8gLLSDdj"
      },
      "execution_count": null,
      "outputs": []
    },
    {
      "cell_type": "code",
      "source": [
        "# Find how many components explain x% variance\n",
        "components_needed = np.argmax(cumulative_variance_ratio >= threshold) + 1\n",
        "print(f\"\\nNumber of components needed to explain {threshold*100}% variance: {components_needed}\")\n"
      ],
      "metadata": {
        "colab": {
          "base_uri": "https://localhost:8080/"
        },
        "id": "5gjhJKDpijLA",
        "outputId": "c8c3458d-4f2c-48b6-e430-f26f952e7c8e"
      },
      "execution_count": null,
      "outputs": [
        {
          "output_type": "stream",
          "name": "stdout",
          "text": [
            "\n",
            "Number of components needed to explain 90.0% variance: 8\n"
          ]
        }
      ]
    },
    {
      "cell_type": "code",
      "source": [
        "for i, var in enumerate(explained_variance_ratio[:components_needed]):\n",
        "    print(f\"PC{i+1}: {var:.4f} ({explained_variance_ratio[i]:.4f} cumulative)\")"
      ],
      "metadata": {
        "id": "zbHOSqM9hHFh",
        "colab": {
          "base_uri": "https://localhost:8080/"
        },
        "outputId": "d7227143-73f1-41ed-a18d-80fc499f63a9"
      },
      "execution_count": null,
      "outputs": [
        {
          "output_type": "stream",
          "name": "stdout",
          "text": [
            "PC1: 0.3620 (0.3620 cumulative)\n",
            "PC2: 0.1921 (0.1921 cumulative)\n",
            "PC3: 0.1112 (0.1112 cumulative)\n",
            "PC4: 0.0707 (0.0707 cumulative)\n",
            "PC5: 0.0656 (0.0656 cumulative)\n",
            "PC6: 0.0494 (0.0494 cumulative)\n",
            "PC7: 0.0424 (0.0424 cumulative)\n",
            "PC8: 0.0268 (0.0268 cumulative)\n"
          ]
        }
      ]
    },
    {
      "cell_type": "markdown",
      "source": [
        "### Visualize"
      ],
      "metadata": {
        "id": "UisQ-EmZIzYc"
      }
    },
    {
      "cell_type": "markdown",
      "source": [
        "#### Explained Variance"
      ],
      "metadata": {
        "id": "9klg1yiKI9QZ"
      }
    },
    {
      "cell_type": "code",
      "source": [
        "plt.figure(figsize=(15, 8))\n",
        "# Plot cumulative explained variance\n",
        "plt.plot(range(1, len(cumulative_variance_ratio) + 1),\n",
        "        cumulative_variance_ratio,\n",
        "        'b-',\n",
        "        label='Cumulative explained variance')\n",
        "\n",
        "# Plot individual explained variance\n",
        "plt.bar(range(1, len(explained_variance_ratio) + 1),\n",
        "        explained_variance_ratio,\n",
        "        alpha=0.5,\n",
        "        label='Individual explained variance')\n",
        "\n",
        "# Plot threshold line\n",
        "plt.axhline(y=threshold, color='r', linestyle='--',\n",
        "           label=f'{threshold*100}% variance threshold')\n",
        "\n",
        "# Find number of components needed for threshold\n",
        "n_components_needed = np.argmax(cumulative_variance_ratio >= threshold) + 1\n",
        "plt.axvline(x=n_components_needed, color='g', linestyle='--',\n",
        "           label=f'{n_components_needed} components needed')\n",
        "\n",
        "plt.xlabel('Number of Principal Components')\n",
        "plt.ylabel('Explained Variance Ratio')\n",
        "plt.title('Explained Variance by Components - Wine Dataset')\n",
        "plt.legend(loc='lower right')\n",
        "plt.grid(True)\n",
        "\n",
        "# Save the plot\n",
        "plt.savefig('charts/explained_variance.png')\n",
        "plt.figure(figsize=(15, 8))"
      ],
      "metadata": {
        "id": "jycE5V1_PKz_",
        "colab": {
          "base_uri": "https://localhost:8080/",
          "height": 706
        },
        "outputId": "cc30a685-ca60-4d99-c196-e2df12246153"
      },
      "execution_count": null,
      "outputs": [
        {
          "output_type": "execute_result",
          "data": {
            "text/plain": [
              "<Figure size 1500x800 with 0 Axes>"
            ]
          },
          "metadata": {},
          "execution_count": 305
        },
        {
          "output_type": "display_data",
          "data": {
            "text/plain": [
              "<Figure size 1500x800 with 1 Axes>"
            ],
            "image/png": "[encoded data removed]"
          },
          "metadata": {}
        },
        {
          "output_type": "display_data",
          "data": {
            "text/plain": [
              "<Figure size 1500x800 with 0 Axes>"
            ]
          },
          "metadata": {}
        }
      ]
    },
    {
      "cell_type": "markdown",
      "source": [
        "#### Feature Loadings"
      ],
      "metadata": {
        "id": "2ya6XDMlJA4A"
      }
    },
    {
      "cell_type": "code",
      "source": [
        "n_components = components_needed\n",
        "n_top_features = 5\n",
        "\n",
        "component_details = []\n",
        "feature_names = features.columns\n",
        "\n",
        "for i in range(n_components):\n",
        "    component = pca.components_[i]\n",
        "    top_indices = np.abs(component).argsort()[-n_top_features:][::-1]\n",
        "\n",
        "    print(f\"\\nPrincipal Component {i+1}\")\n",
        "    print(f\"Explained variance: {explained_variance_ratio[i]:.2%}\")\n",
        "    print(\"Top contributing features:\")\n",
        "    for idx in top_indices:\n",
        "        print(f\"  * {feature_names[idx]}: {component[idx]:.3f}\")\n"
      ],
      "metadata": {
        "id": "icgbMA32MIla",
        "colab": {
          "base_uri": "https://localhost:8080/"
        },
        "outputId": "1e685203-af8e-406d-b153-80a3567da57b"
      },
      "execution_count": null,
      "outputs": [
        {
          "output_type": "stream",
          "name": "stdout",
          "text": [
            "\n",
            "Principal Component 1\n",
            "Explained variance: 36.20%\n",
            "Top contributing features:\n",
            "  * Flavanoids: 0.423\n",
            "  * Phenols: 0.395\n",
            "  * OD: 0.376\n",
            "  * Proanth: 0.313\n",
            "  * Nonflavanoid.phenols: -0.299\n",
            "\n",
            "Principal Component 2\n",
            "Explained variance: 19.21%\n",
            "Top contributing features:\n",
            "  * Color.int: 0.530\n",
            "  * Alcohol: 0.484\n",
            "  * Proline: 0.365\n",
            "  * Ash: 0.316\n",
            "  * Mg: 0.300\n",
            "\n",
            "Principal Component 3\n",
            "Explained variance: 11.12%\n",
            "Top contributing features:\n",
            "  * Ash: 0.626\n",
            "  * Acl: 0.612\n",
            "  * Alcohol: -0.207\n",
            "  * Nonflavanoid.phenols: 0.170\n",
            "  * OD: 0.166\n",
            "\n",
            "Principal Component 4\n",
            "Explained variance: 7.07%\n",
            "Top contributing features:\n",
            "  * Malic.acid: 0.537\n",
            "  * Hue: -0.428\n",
            "  * Proanth: 0.399\n",
            "  * Mg: -0.352\n",
            "  * Proline: -0.232\n",
            "\n",
            "Principal Component 5\n",
            "Explained variance: 6.56%\n",
            "Top contributing features:\n",
            "  * Mg: 0.727\n",
            "  * Nonflavanoid.phenols: -0.501\n",
            "  * Alcohol: -0.266\n",
            "  * Hue: -0.174\n",
            "  * Proline: -0.158\n",
            "\n",
            "Principal Component 6\n",
            "Explained variance: 4.94%\n",
            "Top contributing features:\n",
            "  * Malic.acid: 0.537\n",
            "  * Proanth: -0.534\n",
            "  * Color.int: -0.419\n",
            "  * OD: 0.266\n",
            "  * Nonflavanoid.phenols: -0.259\n",
            "\n",
            "Principal Component 7\n",
            "Explained variance: 4.24%\n",
            "Top contributing features:\n",
            "  * Nonflavanoid.phenols: 0.595\n",
            "  * Malic.acid: 0.421\n",
            "  * Proanth: 0.372\n",
            "  * Mg: 0.323\n",
            "  * Acl: -0.287\n",
            "\n",
            "Principal Component 8\n",
            "Explained variance: 2.68%\n",
            "Top contributing features:\n",
            "  * Hue: 0.437\n",
            "  * Acl: 0.428\n",
            "  * Phenols: -0.406\n",
            "  * Alcohol: 0.396\n",
            "  * Proanth: 0.368\n"
          ]
        }
      ]
    },
    {
      "cell_type": "markdown",
      "source": [
        "### Report"
      ],
      "metadata": {
        "id": "A-kF0UayJ9A_"
      }
    },
    {
      "cell_type": "markdown",
      "source": [
        "#### **PCA Analysis Summary - Wine Dataset**  \n",
        "\n",
        "##### **Overview**  \n",
        "This analysis helps simplify a complex dataset about different types of wine by reducing the number of features while keeping most of the important information.  \n",
        "\n",
        "##### **Key Takeaways**  \n",
        "The bar chart shows how much information each new feature (component) captures. The blue line represents the total amount of information retained as we add more components. The red dashed line marks the point where we keep 90% of the information. The green dashed line tells us that we only need 8 features instead of using all of them.  \n",
        "\n",
        "##### **Why It Matters**  \n",
        "Instead of working with a huge dataset, we can now focus on just 8 key features without losing much accuracy. This makes analysis faster, easier, and more efficient while keeping meaningful patterns in the data.\n"
      ],
      "metadata": {
        "id": "vm3JMedxq1oo"
      }
    },
    {
      "cell_type": "markdown",
      "source": [
        "## Dataset 2 - Cities"
      ],
      "metadata": {
        "id": "z5ggMWigKueA"
      }
    },
    {
      "cell_type": "markdown",
      "source": [
        "### Load Data"
      ],
      "metadata": {
        "id": "fBF7mKCqLkLe"
      }
    },
    {
      "cell_type": "code",
      "source": [
        "cities_df = pd.read_csv(\"/content/drive/MyDrive/Colab Notebooks/Lab4/cities.csv\")\n",
        "print(f\"Dataset loaded with {cities_df.shape[0]} rows and {cities_df.shape[1]} columns\")"
      ],
      "metadata": {
        "colab": {
          "base_uri": "https://localhost:8080/"
        },
        "id": "i9eBBIVUUqVp",
        "outputId": "581e63fb-34fb-4d50-8050-963f5563c371"
      },
      "execution_count": null,
      "outputs": [
        {
          "output_type": "stream",
          "name": "stdout",
          "text": [
            "Dataset loaded with 128 rows and 10 columns\n"
          ]
        }
      ]
    },
    {
      "cell_type": "markdown",
      "source": [
        "### Explore Data"
      ],
      "metadata": {
        "id": "lxsn-rppLnnt"
      }
    },
    {
      "cell_type": "code",
      "source": [
        "print(cities_df.head())\n",
        "print(cities_df.describe().round(2))\n",
        "\n",
        "print(cities_df.isnull().sum())"
      ],
      "metadata": {
        "colab": {
          "base_uri": "https://localhost:8080/"
        },
        "id": "_8nOtzGLYQc8",
        "outputId": "be00d2b7-8d5b-4649-c4b0-04627841c7e8"
      },
      "execution_count": null,
      "outputs": [
        {
          "output_type": "stream",
          "name": "stdout",
          "text": [
            "   LatD   \"LatM\"   \"LatS\"  \"NS\"   \"LonD\"   \"LonM\"   \"LonS\"  \"EW\"  \\\n",
            "0    41        5       59   \"N\"       80       39        0   \"W\"   \n",
            "1    42       52       48   \"N\"       97       23       23   \"W\"   \n",
            "2    46       35       59   \"N\"      120       30       36   \"W\"   \n",
            "3    42       16       12   \"N\"       71       48        0   \"W\"   \n",
            "4    43       37       48   \"N\"       89       46       11   \"W\"   \n",
            "\n",
            "               \"City\"  \"State\"  \n",
            "0        \"Youngstown\"       OH  \n",
            "1           \"Yankton\"       SD  \n",
            "2            \"Yakima\"       WA  \n",
            "3         \"Worcester\"       MA  \n",
            "4   \"Wisconsin Dells\"       WI  \n",
            "         LatD   \"LatM\"   \"LatS\"   \"LonD\"   \"LonM\"   \"LonS\"\n",
            "count  128.00   128.00   128.00   128.00   128.00   128.00\n",
            "mean    38.82    30.77    27.49    93.25    27.74    26.96\n",
            "std      5.20    16.43    18.98    15.47    16.93    18.73\n",
            "min     26.00     1.00     0.00    71.00     0.00     0.00\n",
            "25%     35.00    16.00    11.00    80.00    14.00    11.00\n",
            "50%     39.00    31.00    24.00    89.50    26.50    23.50\n",
            "75%     42.25    45.00    47.00   103.25    40.25    47.00\n",
            "max     50.00    59.00    59.00   123.00    58.00    59.00\n",
            "LatD        0\n",
            " \"LatM\"     0\n",
            " \"LatS\"     0\n",
            " \"NS\"       0\n",
            " \"LonD\"     0\n",
            " \"LonM\"     0\n",
            " \"LonS\"     0\n",
            " \"EW\"       0\n",
            " \"City\"     0\n",
            " \"State\"    0\n",
            "dtype: int64\n"
          ]
        }
      ]
    },
    {
      "cell_type": "markdown",
      "source": [
        "### Check for Missing Values"
      ],
      "metadata": {
        "id": "1gG0rVxSLyOu"
      }
    },
    {
      "cell_type": "code",
      "source": [
        "missing_values = cities_df.isnull().sum()\n",
        "print(missing_values[missing_values > 0] if missing_values.sum() > 0 else \"No missing values\")\n"
      ],
      "metadata": {
        "colab": {
          "base_uri": "https://localhost:8080/"
        },
        "id": "ueAtWsd5U2LF",
        "outputId": "c859c53e-b8b8-497a-863f-bfa004d6891a"
      },
      "execution_count": null,
      "outputs": [
        {
          "output_type": "stream",
          "name": "stdout",
          "text": [
            "No missing values\n"
          ]
        }
      ]
    },
    {
      "cell_type": "markdown",
      "source": [
        "### Feature Engineering"
      ],
      "metadata": {
        "id": "KgmiTwdHL7wJ"
      }
    },
    {
      "cell_type": "code",
      "source": [
        "print(cities_df.columns.tolist())"
      ],
      "metadata": {
        "colab": {
          "base_uri": "https://localhost:8080/"
        },
        "id": "SIHqa2wuU9nD",
        "outputId": "e9924ebc-35ec-49e5-824d-46bdece47284"
      },
      "execution_count": null,
      "outputs": [
        {
          "output_type": "stream",
          "name": "stdout",
          "text": [
            "['LatD', ' \"LatM\"', ' \"LatS\"', ' \"NS\"', ' \"LonD\"', ' \"LonM\"', ' \"LonS\"', ' \"EW\"', ' \"City\"', ' \"State\"']\n"
          ]
        }
      ]
    },
    {
      "cell_type": "code",
      "source": [
        "# Separate target if it exists\n",
        "if 'State' in cities_df.columns:\n",
        "    features = cities_df.drop(columns=['State'])\n",
        "    target = cities_df['State']\n",
        "else:\n",
        "    features = cities_df.copy()"
      ],
      "metadata": {
        "id": "xoxedXgJbe0U"
      },
      "execution_count": null,
      "outputs": []
    },
    {
      "cell_type": "code",
      "source": [
        "features = features.select_dtypes(include=['float64', 'int64'])\n",
        "print(f\"Features selected for PCA: {features.columns.tolist()}\")"
      ],
      "metadata": {
        "colab": {
          "base_uri": "https://localhost:8080/"
        },
        "id": "rmGxUv8OMPlx",
        "outputId": "8a912247-8864-4531-b7d2-d294baaf21c8"
      },
      "execution_count": null,
      "outputs": [
        {
          "output_type": "stream",
          "name": "stdout",
          "text": [
            "Features selected for PCA: ['LatD', ' \"LatM\"', ' \"LatS\"', ' \"LonD\"', ' \"LonM\"', ' \"LonS\"']\n"
          ]
        }
      ]
    },
    {
      "cell_type": "markdown",
      "source": [
        "### Standardize Data"
      ],
      "metadata": {
        "id": "oBIYvkg7MZKT"
      }
    },
    {
      "cell_type": "code",
      "source": [
        "scaler = StandardScaler()\n",
        "scaled_features = scaler.fit_transform(features)\n",
        "print(\"Features have been standardized\")"
      ],
      "metadata": {
        "colab": {
          "base_uri": "https://localhost:8080/"
        },
        "id": "dWLTh2LIMbMf",
        "outputId": "fc45168d-b6df-4d4a-c252-6d9100d9e35e"
      },
      "execution_count": null,
      "outputs": [
        {
          "output_type": "stream",
          "name": "stdout",
          "text": [
            "Features have been standardized\n"
          ]
        }
      ]
    },
    {
      "cell_type": "markdown",
      "source": [
        "### Perform PCA"
      ],
      "metadata": {
        "id": "hUXfuU3uMepG"
      }
    },
    {
      "cell_type": "code",
      "source": [
        "pca = PCA()\n",
        "transformed_features = pca.fit_transform(scaled_features)\n",
        "explained_variance_ratio = pca.explained_variance_ratio_"
      ],
      "metadata": {
        "id": "Ub9YwazXMgnG"
      },
      "execution_count": null,
      "outputs": []
    },
    {
      "cell_type": "code",
      "source": [
        "cumulative_variance_ratio = np.cumsum(explained_variance_ratio)\n",
        "threshold = 0.60"
      ],
      "metadata": {
        "id": "Y1BGp4KKMles"
      },
      "execution_count": null,
      "outputs": []
    },
    {
      "cell_type": "code",
      "source": [
        "# Find how many components explain x% variance\n",
        "components_needed = np.argmax(cumulative_variance_ratio >= threshold) + 1\n",
        "print(f\"\\nNumber of components needed to explain {threshold*100}% variance: {components_needed}\")\n"
      ],
      "metadata": {
        "colab": {
          "base_uri": "https://localhost:8080/"
        },
        "id": "-2QxLVU5Sfwd",
        "outputId": "98c5e3a3-05b4-4e23-97fe-d4418b92c61a"
      },
      "execution_count": null,
      "outputs": [
        {
          "output_type": "stream",
          "name": "stdout",
          "text": [
            "\n",
            "Number of components needed to explain 60.0% variance: 4\n"
          ]
        }
      ]
    },
    {
      "cell_type": "code",
      "source": [
        "for i, var in enumerate(explained_variance_ratio[:components_needed]):\n",
        "    print(f\"PC{i+1}: {var:.4f} ({explained_variance_ratio[i]:.4f} cumulative)\")"
      ],
      "metadata": {
        "colab": {
          "base_uri": "https://localhost:8080/"
        },
        "id": "HDld9X1hSmI7",
        "outputId": "d3874f8d-4a0f-42ad-b19c-88a4dd75cc81"
      },
      "execution_count": null,
      "outputs": [
        {
          "output_type": "stream",
          "name": "stdout",
          "text": [
            "PC1: 0.2130 (0.2130 cumulative)\n",
            "PC2: 0.1824 (0.1824 cumulative)\n",
            "PC3: 0.1752 (0.1752 cumulative)\n",
            "PC4: 0.1553 (0.1553 cumulative)\n"
          ]
        }
      ]
    },
    {
      "cell_type": "markdown",
      "source": [
        "### Visualize"
      ],
      "metadata": {
        "id": "oLAXcQfJMsyy"
      }
    },
    {
      "cell_type": "markdown",
      "source": [
        "#### Explained Variance"
      ],
      "metadata": {
        "id": "Vj9cBtSDM17i"
      }
    },
    {
      "cell_type": "code",
      "source": [
        "plt.figure(figsize=(15, 8))\n",
        "# Plot cumulative explained variance\n",
        "plt.plot(range(1, len(cumulative_variance_ratio) + 1),\n",
        "        cumulative_variance_ratio,\n",
        "        'b-',\n",
        "        label='Cumulative explained variance')\n",
        "\n",
        "# Plot individual explained variance\n",
        "plt.bar(range(1, len(explained_variance_ratio) + 1),\n",
        "        explained_variance_ratio,\n",
        "        alpha=0.5,\n",
        "        label='Individual explained variance')\n",
        "\n",
        "# Plot threshold line\n",
        "plt.axhline(y=threshold, color='r', linestyle='--',\n",
        "           label=f'{threshold*100}% variance threshold')\n",
        "\n",
        "# Find number of components needed for threshold\n",
        "n_components_needed = np.argmax(cumulative_variance_ratio >= threshold) + 1\n",
        "plt.axvline(x=n_components_needed, color='g', linestyle='--',\n",
        "           label=f'{n_components_needed} components needed')\n",
        "\n",
        "plt.xlabel('Number of Principal Components')\n",
        "plt.ylabel('Explained Variance Ratio')\n",
        "plt.title('Explained Variance by Components - Wine Dataset')\n",
        "plt.legend(loc='lower right')\n",
        "plt.grid(True)\n",
        "\n",
        "# Save the plot\n",
        "plt.savefig('charts/explained_variance.png')\n",
        "plt.figure(figsize=(15, 8))"
      ],
      "metadata": {
        "colab": {
          "base_uri": "https://localhost:8080/",
          "height": 708
        },
        "id": "gHrvRwT7MugL",
        "outputId": "736d28cc-9634-4088-ed59-53af5a306177"
      },
      "execution_count": null,
      "outputs": [
        {
          "output_type": "execute_result",
          "data": {
            "text/plain": [
              "<Figure size 1500x800 with 0 Axes>"
            ]
          },
          "metadata": {},
          "execution_count": 327
        },
        {
          "output_type": "display_data",
          "data": {
            "text/plain": [
              "<Figure size 1500x800 with 1 Axes>"
            ],
            "image/png": "[encoded data removed]"
          },
          "metadata": {}
        },
        {
          "output_type": "display_data",
          "data": {
            "text/plain": [
              "<Figure size 1500x800 with 0 Axes>"
            ]
          },
          "metadata": {}
        }
      ]
    },
    {
      "cell_type": "markdown",
      "source": [
        "#### Feature Loadings"
      ],
      "metadata": {
        "id": "Dj8cODOxM7ZR"
      }
    },
    {
      "cell_type": "code",
      "source": [
        "n_components = components_needed\n",
        "n_top_features = 5\n",
        "\n",
        "component_details = []\n",
        "feature_names = features.columns\n",
        "\n",
        "for i in range(n_components):\n",
        "    component = pca.components_[i]\n",
        "    top_indices = np.abs(component).argsort()[-n_top_features:][::-1]\n",
        "\n",
        "    print(f\"\\nPrincipal Component {i+1}\")\n",
        "    print(f\"Explained variance: {explained_variance_ratio[i]:.2%}\")\n",
        "    print(\"Top contributing features:\")\n",
        "    for idx in top_indices:\n",
        "        print(f\"  * {feature_names[idx]}: {component[idx]:.3f}\")\n"
      ],
      "metadata": {
        "colab": {
          "base_uri": "https://localhost:8080/"
        },
        "id": "xFa7bZFOM-MJ",
        "outputId": "40e97f76-59aa-42d9-d556-97e9baa67563"
      },
      "execution_count": null,
      "outputs": [
        {
          "output_type": "stream",
          "name": "stdout",
          "text": [
            "\n",
            "Principal Component 1\n",
            "Explained variance: 21.30%\n",
            "Top contributing features:\n",
            "  *  \"LatS\": 0.583\n",
            "  *  \"LatM\": -0.494\n",
            "  *  \"LonS\": -0.475\n",
            "  *  \"LonD\": -0.360\n",
            "  *  \"LonM\": 0.207\n",
            "\n",
            "Principal Component 2\n",
            "Explained variance: 18.24%\n",
            "Top contributing features:\n",
            "  * LatD: 0.613\n",
            "  *  \"LonD\": 0.526\n",
            "  *  \"LonS\": -0.440\n",
            "  *  \"LonM\": -0.350\n",
            "  *  \"LatM\": -0.133\n",
            "\n",
            "Principal Component 3\n",
            "Explained variance: 17.52%\n",
            "Top contributing features:\n",
            "  *  \"LonM\": 0.741\n",
            "  * LatD: 0.460\n",
            "  *  \"LonS\": 0.378\n",
            "  *  \"LatM\": -0.228\n",
            "  *  \"LonD\": 0.197\n",
            "\n",
            "Principal Component 4\n",
            "Explained variance: 15.53%\n",
            "Top contributing features:\n",
            "  *  \"LatM\": 0.572\n",
            "  *  \"LatS\": 0.535\n",
            "  *  \"LonD\": 0.469\n",
            "  * LatD: -0.316\n",
            "  *  \"LonM\": 0.241\n"
          ]
        }
      ]
    },
    {
      "cell_type": "markdown",
      "source": [
        "### Report"
      ],
      "metadata": {
        "id": "wpI3LEdYTQp-"
      }
    },
    {
      "cell_type": "markdown",
      "source": [
        "#### **PCA Analysis Summary - Cities Dataset**  \n",
        "\n",
        "##### **Overview**  \n",
        "This analysis reduces a large dataset about cities into fewer, more meaningful features while keeping most of the essential information.  \n",
        "\n",
        "##### **Key Takeaways**  \n",
        "The bar chart shows how much information each feature (component) captures. The blue line represents the total information retained as we add more components. The red dashed line indicates the 60% information threshold. The green dashed line marks the point where we only need 4 features instead of using all of them.  \n",
        "\n",
        "##### **Why It Matters**  \n",
        "Instead of analyzing a massive dataset, we can focus on just 4 key features while still keeping a good amount of useful information. This makes city-related data easier to work with, speeds up analysis, and improves decision-making.\n"
      ],
      "metadata": {
        "id": "hg08CuRpwfKj"
      }
    },
    {
      "cell_type": "markdown",
      "source": [
        "## Data Set 3 - Economic"
      ],
      "metadata": {
        "id": "_KQReFixe9bO"
      }
    },
    {
      "cell_type": "markdown",
      "source": [
        "### Load Data"
      ],
      "metadata": {
        "id": "RMeGPPNDfACP"
      }
    },
    {
      "cell_type": "code",
      "source": [
        "econ_df = pd.read_csv(\"/content/drive/MyDrive/Colab Notebooks/Lab4/economic1.csv\")\n",
        "print(f\"Dataset loaded with {econ_df.shape[0]} rows and {econ_df.shape[1]} columns\")"
      ],
      "metadata": {
        "colab": {
          "base_uri": "https://localhost:8080/"
        },
        "id": "sOD9nBTXfCsF",
        "outputId": "07159e8f-c6ca-40c0-b387-86ca562bcda1"
      },
      "execution_count": null,
      "outputs": [
        {
          "output_type": "stream",
          "name": "stdout",
          "text": [
            "Dataset loaded with 191978 rows and 13 columns\n"
          ]
        },
        {
          "output_type": "stream",
          "name": "stderr",
          "text": [
            "<ipython-input-399-9cec8ff6c17c>:1: DtypeWarning: Columns (11) have mixed types. Specify dtype option on import or set low_memory=False.\n",
            "  econ_df = pd.read_csv(\"/content/drive/MyDrive/Colab Notebooks/Lab4/economic1.csv\")\n"
          ]
        }
      ]
    },
    {
      "cell_type": "markdown",
      "source": [
        "### Explore Data"
      ],
      "metadata": {
        "id": "ZibJZBdifpc1"
      }
    },
    {
      "cell_type": "code",
      "source": [
        "print(econ_df.head())\n",
        "print(econ_df.describe().round(2))\n",
        "\n",
        "print(econ_df.isnull().sum())"
      ],
      "metadata": {
        "colab": {
          "base_uri": "https://localhost:8080/"
        },
        "id": "BEUX6hh3fpIZ",
        "outputId": "cb9c0694-d23a-4481-f8c6-83cdcfec10d7"
      },
      "execution_count": null,
      "outputs": [
        {
          "output_type": "stream",
          "name": "stdout",
          "text": [
            "  Series_reference   Period  Data_value STATUS    UNITS  MAGNTUDE  \\\n",
            "0      QEMQ.SAAB1A  1989.03       14.16  FINAL  Dollars         0   \n",
            "1      QEMQ.SAAB1A  1989.06       14.26  FINAL  Dollars         0   \n",
            "2      QEMQ.SAAB1A  1989.09       14.24  FINAL  Dollars         0   \n",
            "3      QEMQ.SAAB1A  1989.12       14.49  FINAL  Dollars         0   \n",
            "4      QEMQ.SAAB1A  1990.03       14.49  FINAL  Dollars         0   \n",
            "\n",
            "                             Subject  \\\n",
            "0  Quarterly Employment Survey - QEM   \n",
            "1  Quarterly Employment Survey - QEM   \n",
            "2  Quarterly Employment Survey - QEM   \n",
            "3  Quarterly Employment Survey - QEM   \n",
            "4  Quarterly Employment Survey - QEM   \n",
            "\n",
            "                                               Group       Series_title_1  \\\n",
            "0  Average Hourly Earnings by Industry (ANZSIC06)...  Forestry and Mining   \n",
            "1  Average Hourly Earnings by Industry (ANZSIC06)...  Forestry and Mining   \n",
            "2  Average Hourly Earnings by Industry (ANZSIC06)...  Forestry and Mining   \n",
            "3  Average Hourly Earnings by Industry (ANZSIC06)...  Forestry and Mining   \n",
            "4  Average Hourly Earnings by Industry (ANZSIC06)...  Forestry and Mining   \n",
            "\n",
            "  Series_title_2        Series_title_3 Series_title_4  Series_title_5  \n",
            "0           Male  Ordinary Time Hourly            NaN             NaN  \n",
            "1           Male  Ordinary Time Hourly            NaN             NaN  \n",
            "2           Male  Ordinary Time Hourly            NaN             NaN  \n",
            "3           Male  Ordinary Time Hourly            NaN             NaN  \n",
            "4           Male  Ordinary Time Hourly            NaN             NaN  \n",
            "          Period    Data_value  MAGNTUDE  Series_title_5\n",
            "count  191978.00  1.898360e+05  191978.0             0.0\n",
            "mean     2006.86  4.199261e+06       0.0             NaN\n",
            "std        10.32  7.273184e+07       0.0             NaN\n",
            "min      1989.03 -8.000000e-01       0.0             NaN\n",
            "25%      1998.09  2.399000e+01       0.0             NaN\n",
            "50%      2007.06  3.883000e+01       0.0             NaN\n",
            "75%      2016.03  1.298340e+03       0.0             NaN\n",
            "max      2024.12  3.183795e+09       0.0             NaN\n",
            "Series_reference         0\n",
            "Period                   0\n",
            "Data_value            2142\n",
            "STATUS                   0\n",
            "UNITS                    0\n",
            "MAGNTUDE                 0\n",
            "Subject                  0\n",
            "Group                    0\n",
            "Series_title_1           0\n",
            "Series_title_2        4896\n",
            "Series_title_3       16200\n",
            "Series_title_4      190548\n",
            "Series_title_5      191978\n",
            "dtype: int64\n"
          ]
        }
      ]
    },
    {
      "cell_type": "markdown",
      "source": [
        "#### Check Missing Values"
      ],
      "metadata": {
        "id": "RBogddIFfwpM"
      }
    },
    {
      "cell_type": "code",
      "source": [
        "missing_values = econ_df.isnull().sum()\n",
        "print(missing_values[missing_values > 0] if missing_values.sum() > 0 else \"No missing values\")"
      ],
      "metadata": {
        "colab": {
          "base_uri": "https://localhost:8080/"
        },
        "id": "rOKhr8ZSfzID",
        "outputId": "513364f7-4752-482e-d15e-6fefa3bbb2ed"
      },
      "execution_count": null,
      "outputs": [
        {
          "output_type": "stream",
          "name": "stdout",
          "text": [
            "Data_value          2142\n",
            "Series_title_2      4896\n",
            "Series_title_3     16200\n",
            "Series_title_4    190548\n",
            "Series_title_5    191978\n",
            "dtype: int64\n"
          ]
        }
      ]
    },
    {
      "cell_type": "markdown",
      "source": [
        "### Feature Engineering"
      ],
      "metadata": {
        "id": "ofCGXVyFf4u2"
      }
    },
    {
      "cell_type": "code",
      "source": [
        "missing_values = econ_df.isnull().sum()\n",
        "print(missing_values)\n",
        "missing_values.describe()"
      ],
      "metadata": {
        "colab": {
          "base_uri": "https://localhost:8080/",
          "height": 578
        },
        "id": "esiVTEX1f8Yd",
        "outputId": "2219772a-2b35-43a4-d5b5-75e280fc4024"
      },
      "execution_count": null,
      "outputs": [
        {
          "output_type": "stream",
          "name": "stdout",
          "text": [
            "Series_reference         0\n",
            "Period                   0\n",
            "Data_value            2142\n",
            "STATUS                   0\n",
            "UNITS                    0\n",
            "MAGNTUDE                 0\n",
            "Subject                  0\n",
            "Group                    0\n",
            "Series_title_1           0\n",
            "Series_title_2        4896\n",
            "Series_title_3       16200\n",
            "Series_title_4      190548\n",
            "Series_title_5      191978\n",
            "dtype: int64\n"
          ]
        },
        {
          "output_type": "execute_result",
          "data": {
            "text/plain": [
              "count        13.000000\n",
              "mean      31212.615385\n",
              "std       71174.747452\n",
              "min           0.000000\n",
              "25%           0.000000\n",
              "50%           0.000000\n",
              "75%        4896.000000\n",
              "max      191978.000000\n",
              "dtype: float64"
            ],
            "text/html": [
              "<div>\n",
              "<style scoped>\n",
              "    .dataframe tbody tr th:only-of-type {\n",
              "        vertical-align: middle;\n",
              "    }\n",
              "\n",
              "    .dataframe tbody tr th {\n",
              "        vertical-align: top;\n",
              "    }\n",
              "\n",
              "    .dataframe thead th {\n",
              "        text-align: right;\n",
              "    }\n",
              "</style>\n",
              "<table border=\"1\" class=\"dataframe\">\n",
              "  <thead>\n",
              "    <tr style=\"text-align: right;\">\n",
              "      <th></th>\n",
              "      <th>0</th>\n",
              "    </tr>\n",
              "  </thead>\n",
              "  <tbody>\n",
              "    <tr>\n",
              "      <th>count</th>\n",
              "      <td>13.000000</td>\n",
              "    </tr>\n",
              "    <tr>\n",
              "      <th>mean</th>\n",
              "      <td>31212.615385</td>\n",
              "    </tr>\n",
              "    <tr>\n",
              "      <th>std</th>\n",
              "      <td>71174.747452</td>\n",
              "    </tr>\n",
              "    <tr>\n",
              "      <th>min</th>\n",
              "      <td>0.000000</td>\n",
              "    </tr>\n",
              "    <tr>\n",
              "      <th>25%</th>\n",
              "      <td>0.000000</td>\n",
              "    </tr>\n",
              "    <tr>\n",
              "      <th>50%</th>\n",
              "      <td>0.000000</td>\n",
              "    </tr>\n",
              "    <tr>\n",
              "      <th>75%</th>\n",
              "      <td>4896.000000</td>\n",
              "    </tr>\n",
              "    <tr>\n",
              "      <th>max</th>\n",
              "      <td>191978.000000</td>\n",
              "    </tr>\n",
              "  </tbody>\n",
              "</table>\n",
              "</div><br><label><b>dtype:</b> float64</label>"
            ]
          },
          "metadata": {},
          "execution_count": 405
        }
      ]
    },
    {
      "cell_type": "code",
      "source": [
        "econ_df = econ_df.drop(columns=['Series_title_5'])"
      ],
      "metadata": {
        "id": "bWPvGvPFV42F"
      },
      "execution_count": null,
      "outputs": []
    },
    {
      "cell_type": "code",
      "source": [
        "econ_df = econ_df.dropna()"
      ],
      "metadata": {
        "id": "MR1BfturYs4v"
      },
      "execution_count": null,
      "outputs": []
    },
    {
      "cell_type": "code",
      "source": [
        "missing_values = econ_df.isnull().sum()\n",
        "print(missing_values[missing_values > 0] if missing_values.sum() > 0 else \"No missing values\")"
      ],
      "metadata": {
        "colab": {
          "base_uri": "https://localhost:8080/"
        },
        "id": "bItTStEGV4fy",
        "outputId": "386ee889-ce66-4607-a789-ece1d09b4928"
      },
      "execution_count": null,
      "outputs": [
        {
          "output_type": "stream",
          "name": "stdout",
          "text": [
            "No missing values\n"
          ]
        }
      ]
    },
    {
      "cell_type": "code",
      "source": [
        "print(econ_df.columns.tolist())"
      ],
      "metadata": {
        "colab": {
          "base_uri": "https://localhost:8080/"
        },
        "id": "TS0Lo2cFgBsi",
        "outputId": "2123b0b3-a994-4407-edc1-20bfa3173ce0"
      },
      "execution_count": null,
      "outputs": [
        {
          "output_type": "stream",
          "name": "stdout",
          "text": [
            "['Series_reference', 'Period', 'Data_value', 'STATUS', 'UNITS', 'MAGNTUDE', 'Subject', 'Group', 'Series_title_1', 'Series_title_2', 'Series_title_3', 'Series_title_4']\n"
          ]
        }
      ]
    },
    {
      "cell_type": "code",
      "source": [
        "# Separate target if it exists\n",
        "if 'Data_value' in econ_df.columns:\n",
        "    features = econ_df.drop(columns=['Data_value'])\n",
        "    target = econ_df['Data_value']\n",
        "else:\n",
        "    features = econ_df.copy()"
      ],
      "metadata": {
        "id": "iw9_e2BBgEki"
      },
      "execution_count": null,
      "outputs": []
    },
    {
      "cell_type": "markdown",
      "source": [
        "#### Select Features for PCA"
      ],
      "metadata": {
        "id": "63dj9pTfgI-9"
      }
    },
    {
      "cell_type": "code",
      "source": [
        "features = features.select_dtypes(include=['float64', 'int64'])\n",
        "print(f\"Features selected for PCA: {features.columns.tolist()}\")"
      ],
      "metadata": {
        "colab": {
          "base_uri": "https://localhost:8080/"
        },
        "id": "0PtUuHxbgMBq",
        "outputId": "b5150411-88b6-47fa-d112-163ccfcf0061"
      },
      "execution_count": null,
      "outputs": [
        {
          "output_type": "stream",
          "name": "stdout",
          "text": [
            "Features selected for PCA: ['Period', 'MAGNTUDE']\n"
          ]
        }
      ]
    },
    {
      "cell_type": "markdown",
      "source": [
        "#### Standardize Data"
      ],
      "metadata": {
        "id": "6GxNhcOHggTb"
      }
    },
    {
      "cell_type": "code",
      "source": [
        "scaler = StandardScaler()\n",
        "scaled_features = scaler.fit_transform(features)\n",
        "print(\"Features have been standardized\")"
      ],
      "metadata": {
        "colab": {
          "base_uri": "https://localhost:8080/"
        },
        "id": "JjsBGGbDgeSJ",
        "outputId": "0076c4e7-0a1f-4919-8f65-501f6fded0ff"
      },
      "execution_count": null,
      "outputs": [
        {
          "output_type": "stream",
          "name": "stdout",
          "text": [
            "Features have been standardized\n"
          ]
        }
      ]
    },
    {
      "cell_type": "markdown",
      "source": [
        "### Perform PCA"
      ],
      "metadata": {
        "id": "SnyW38QmgmkG"
      }
    },
    {
      "cell_type": "code",
      "source": [
        "pca = PCA()\n",
        "transformed_features = pca.fit_transform(scaled_features)\n",
        "explained_variance_ratio = pca.explained_variance_ratio_"
      ],
      "metadata": {
        "id": "uAb0JyBzgpYr"
      },
      "execution_count": null,
      "outputs": []
    },
    {
      "cell_type": "markdown",
      "source": [
        "#### Analyze Explained Variance"
      ],
      "metadata": {
        "id": "eWybZ2pGgvTP"
      }
    },
    {
      "cell_type": "code",
      "source": [
        "cumulative_variance_ratio = np.cumsum(explained_variance_ratio)\n",
        "threshold = 0.997"
      ],
      "metadata": {
        "id": "TKgEM95SgyqO"
      },
      "execution_count": null,
      "outputs": []
    },
    {
      "cell_type": "markdown",
      "source": [
        "#### Determine Number of Components"
      ],
      "metadata": {
        "id": "Oqr3E-3Kg9ti"
      }
    },
    {
      "cell_type": "code",
      "source": [
        "# Find how many components explain x% variance\n",
        "components_needed = np.argmax(cumulative_variance_ratio >= threshold) + 1\n",
        "print(f\"\\nNumber of components needed to explain {threshold*100}% variance: {components_needed}\")"
      ],
      "metadata": {
        "colab": {
          "base_uri": "https://localhost:8080/"
        },
        "id": "c2FQhQhLhBpc",
        "outputId": "18bf3eeb-c37b-4b71-f287-947bbc59905c"
      },
      "execution_count": null,
      "outputs": [
        {
          "output_type": "stream",
          "name": "stdout",
          "text": [
            "\n",
            "Number of components needed to explain 99.7% variance: 1\n"
          ]
        }
      ]
    },
    {
      "cell_type": "code",
      "source": [
        "for i, var in enumerate(explained_variance_ratio[:components_needed]):\n",
        "    print(f\"PC{i+1}: {var:.4f} ({explained_variance_ratio[i]:.4f} cumulative)\")"
      ],
      "metadata": {
        "colab": {
          "base_uri": "https://localhost:8080/"
        },
        "id": "YZKRSS5LZlSr",
        "outputId": "9ccad456-4037-4a1d-dc0a-0c4124bb80d2"
      },
      "execution_count": null,
      "outputs": [
        {
          "output_type": "stream",
          "name": "stdout",
          "text": [
            "PC1: 1.0000 (1.0000 cumulative)\n"
          ]
        }
      ]
    },
    {
      "cell_type": "markdown",
      "source": [
        "### Visualize"
      ],
      "metadata": {
        "id": "ACHvip-VhHbt"
      }
    },
    {
      "cell_type": "markdown",
      "source": [
        "#### Visualize Explained Variance"
      ],
      "metadata": {
        "id": "xRGTZQwHhaJ-"
      }
    },
    {
      "cell_type": "code",
      "source": [
        "plt.figure(figsize=(15, 8))\n",
        "# Plot cumulative explained variance\n",
        "plt.plot(range(1, len(cumulative_variance_ratio) + 1),\n",
        "        cumulative_variance_ratio,\n",
        "        'b-',\n",
        "        label='Cumulative explained variance')\n",
        "\n",
        "# Plot individual explained variance\n",
        "plt.bar(range(1, len(explained_variance_ratio) + 1),\n",
        "        explained_variance_ratio,\n",
        "        alpha=0.5,\n",
        "        label='Individual explained variance')\n",
        "\n",
        "# Plot threshold line\n",
        "plt.axhline(y=threshold, color='r', linestyle='--',\n",
        "           label=f'{threshold*100}% variance threshold')\n",
        "\n",
        "# Find number of components needed for threshold\n",
        "n_components_needed = np.argmax(cumulative_variance_ratio >= threshold) + 1\n",
        "plt.axvline(x=n_components_needed, color='g', linestyle='--',\n",
        "           label=f'{n_components_needed} components needed')\n",
        "\n",
        "plt.xlabel('Number of Principal Components')\n",
        "plt.ylabel('Explained Variance Ratio')\n",
        "plt.title('Explained Variance by Components - Wine Dataset')\n",
        "plt.legend(loc='lower right')\n",
        "plt.grid(True)\n",
        "\n",
        "# Save the plot\n",
        "plt.savefig('charts/explained_variance.png')\n",
        "plt.figure(figsize=(15, 8))"
      ],
      "metadata": {
        "colab": {
          "base_uri": "https://localhost:8080/",
          "height": 708
        },
        "id": "cPS3MxmRhJTb",
        "outputId": "c2f35e0f-e63f-4b1c-a478-065536cca7c0"
      },
      "execution_count": null,
      "outputs": [
        {
          "output_type": "execute_result",
          "data": {
            "text/plain": [
              "<Figure size 1500x800 with 0 Axes>"
            ]
          },
          "metadata": {},
          "execution_count": 429
        },
        {
          "output_type": "display_data",
          "data": {
            "text/plain": [
              "<Figure size 1500x800 with 1 Axes>"
            ],
            "image/png": "[encoded data removed]"
          },
          "metadata": {}
        },
        {
          "output_type": "display_data",
          "data": {
            "text/plain": [
              "<Figure size 1500x800 with 0 Axes>"
            ]
          },
          "metadata": {}
        }
      ]
    },
    {
      "cell_type": "markdown",
      "source": [
        "### Report"
      ],
      "metadata": {
        "id": "6woULS_RjSaS"
      }
    },
    {
      "cell_type": "markdown",
      "source": [
        "#### **PCA Analysis Summary - Non-Numeric Dataset**  \n",
        "\n",
        "##### **Overview**  \n",
        "This dataset primarily contained categorical or text-based data, with very few numeric values available for meaningful PCA.  \n",
        "\n",
        "##### **Key Takeaways**  \n",
        "The chart shows that only one principal component is needed to retain nearly all of the information. This suggests that the dataset had little numerical variation, meaning PCA was not particularly useful for dimensionality reduction.  \n",
        "\n",
        "##### **Why It Matters**  \n",
        "Since the data was mostly categorical, PCA might not be the best technique for analysis. Alternative methods, such as one-hot encoding or clustering on categorical features, could be more appropriate for extracting insights.  \n"
      ],
      "metadata": {
        "id": "rsMLN7p-yNcA"
      }
    }
  ]
}